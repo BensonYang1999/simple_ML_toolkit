{
 "cells": [
  {
   "cell_type": "code",
   "execution_count": 35,
   "metadata": {},
   "outputs": [
    {
     "name": "stdout",
     "output_type": "stream",
     "text": [
      "data size: 10 * 3\n",
      "phi\n",
      "10 25.6 23.5 25.6 278.46 -24.66 23.5 -24.66 253.51 \n",
      "phi_inv\n",
      "0.199811 -0.0201837 -0.0204856 -0.0201837 0.00566121 0.00242168 -0.0204856 0.00242168 0.00607917 \n",
      "weight\n",
      "-10 4 7 \n",
      "-10 24 43 -9 40 -24.5 36.2 22.3 -19.6 64.5 \n"
     ]
    }
   ],
   "source": [
    "import simpleml\n",
    "\n",
    "model = simpleml.Regression()\n",
    "model.load_data('src/x.csv', 'src/y.csv')\n",
    "model.train()\n",
    "model.test()"
   ]
  },
  {
   "cell_type": "code",
   "execution_count": 48,
   "metadata": {},
   "outputs": [],
   "source": [
    "import cv2\n",
    "import time\n",
    "import numpy as np\n",
    "image = cv2.imread(\"./hw3.jpg\")\n",
    "img = image.reshape((-1, 3)) / 255.0\n",
    "# np.savetxt('cat.csv', img, delimiter=',')"
   ]
  },
  {
   "cell_type": "code",
   "execution_count": 41,
   "metadata": {},
   "outputs": [],
   "source": [
    "# k-means\n",
    "def kmeans(data, K, iter):\n",
    "    # initialize\n",
    "    center = data[np.random.randint(len(data), size=K)]\n",
    "\n",
    "    for i in range(iter):\n",
    "        # 找離每個點最近的群(中心)，將其分類為該群\n",
    "        distance = np.sum((data.reshape(-1, 1, 3) - center)**2, axis=2)\n",
    "        classes = np.argmin(distance, axis=1)\n",
    "        class_onehot = np.eye(K)[classes]\n",
    "        # 更新各群的中心\n",
    "        temp_sum = np.sum(class_onehot.reshape(-1, K, 1) * data.reshape(-1, 1, 3), axis=0)\n",
    "        center = temp_sum / np.sum(class_onehot, axis=0).reshape(K, 1)\n",
    "    \n",
    "    return center, class_onehot"
   ]
  },
  {
   "cell_type": "code",
   "execution_count": 46,
   "metadata": {},
   "outputs": [],
   "source": [
    "# print center\n",
    "def print_means(mean, k, model):\n",
    "    print(\"---------- %s K = %d ----------\" %(model, k))\n",
    "    print(\"         B          G          R   \")\n",
    "    for i in range(k):\n",
    "        print(\"%2d: %10f %10f %10f\" %(i, mean[i, 0]*255, mean[i, 1]*255, mean[i, 2]*255))"
   ]
  },
  {
   "cell_type": "code",
   "execution_count": 52,
   "metadata": {},
   "outputs": [
    {
     "name": "stdout",
     "output_type": "stream",
     "text": [
      "time cost: 3.7064788341522217\n",
      "---------- k-means K = 7 ----------\n",
      "         B          G          R   \n",
      " 0:  16.688316  40.974668  18.574869\n",
      " 1: 105.116698 139.539326  81.580168\n",
      " 2: 199.202706 208.755111 229.836969\n",
      " 3: 102.572856 123.817821 148.772353\n",
      " 4: 149.783546 165.975425 190.046789\n",
      " 5:  30.091969  72.410471  32.778405\n",
      " 6:  72.017115 101.387775  59.115892\n"
     ]
    }
   ],
   "source": [
    "K = 7\n",
    "iteration = 100\n",
    "\n",
    "time_start = time.time()\n",
    "center, class_onehot = kmeans(img, K, iteration)\n",
    "time_end = time.time()\n",
    "print(\"time cost:\", time_end-time_start)\n",
    "print_means(center, K, 'k-means')"
   ]
  }
 ],
 "metadata": {
  "kernelspec": {
   "display_name": "Python 3",
   "language": "python",
   "name": "python3"
  },
  "language_info": {
   "codemirror_mode": {
    "name": "ipython",
    "version": 3
   },
   "file_extension": ".py",
   "mimetype": "text/x-python",
   "name": "python",
   "nbconvert_exporter": "python",
   "pygments_lexer": "ipython3",
   "version": "3.8.10 (default, Jun 22 2022, 20:18:18) \n[GCC 9.4.0]"
  },
  "orig_nbformat": 4,
  "vscode": {
   "interpreter": {
    "hash": "916dbcbb3f70747c44a77c7bcd40155683ae19c65e1c03b4aa3499c5328201f1"
   }
  }
 },
 "nbformat": 4,
 "nbformat_minor": 2
}
