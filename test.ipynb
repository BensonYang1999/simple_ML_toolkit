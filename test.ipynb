{
 "cells": [
  {
   "cell_type": "code",
   "execution_count": 1,
   "metadata": {},
   "outputs": [],
   "source": [
    "import simpleml\n",
    "import timeit\n",
    "import time\n",
    "from sklearn.linear_model import LinearRegression, LogisticRegression\n",
    "from sklearn.cluster import KMeans\n",
    "import numpy as np\n",
    "import pandas as pd"
   ]
  },
  {
   "attachments": {},
   "cell_type": "markdown",
   "metadata": {},
   "source": [
    "### 1. linear regression"
   ]
  },
  {
   "cell_type": "code",
   "execution_count": 3,
   "metadata": {},
   "outputs": [
    {
     "name": "stdout",
     "output_type": "stream",
     "text": [
      "Duration: 3.0643e-05 seconds\n",
      "Loading data success!\n",
      "Training success!\n"
     ]
    }
   ],
   "source": [
    "# simple ML toolkit\n",
    "model = simpleml.Regression()\n",
    "model.load_data('test_data/x.csv', 'test_data/y_bios.csv')\n",
    "\n",
    "time_start = time.time_ns()\n",
    "model.train()\n",
    "time_end = time.time_ns()\n",
    "reg_time = time_end - time_start\n",
    "print(\"Duration:\", reg_time / 1e9, \"seconds\")\n",
    "\n",
    "# model.test()\n",
    "weight = model.weight"
   ]
  },
  {
   "cell_type": "code",
   "execution_count": 128,
   "metadata": {},
   "outputs": [],
   "source": [
    "X = np.array(pd.read_csv('test_data/x.csv', header=None))\n",
    "y = np.array(pd.read_csv('test_data/y_bios.csv', header=None)).flatten()"
   ]
  },
  {
   "cell_type": "code",
   "execution_count": 134,
   "metadata": {},
   "outputs": [
    {
     "name": "stdout",
     "output_type": "stream",
     "text": [
      "Duration: 0.00022519 seconds\n"
     ]
    }
   ],
   "source": [
    "# pure python\n",
    "phi_train_x = np.concatenate((np.ones((len(X), 1)), X), axis=1)\n",
    "\n",
    "time_start = time.time_ns()\n",
    "weight_m1 = np.dot(np.dot(np.linalg.inv(np.dot(phi_train_x.T, phi_train_x)), phi_train_x.T), y)\n",
    "time_end = time.time_ns()\n",
    "reg_time = time_end - time_start\n",
    "print(\"Duration:\", reg_time / 1e9, \"seconds\")"
   ]
  },
  {
   "cell_type": "code",
   "execution_count": 138,
   "metadata": {},
   "outputs": [
    {
     "name": "stdout",
     "output_type": "stream",
     "text": [
      "Duration: 0.001341748 seconds\n",
      "weight:  -10.013136241488397 [3.9928595  6.96655997]\n"
     ]
    }
   ],
   "source": [
    "# sklearn\n",
    "model_lr = LinearRegression(fit_intercept=True)\n",
    "\n",
    "time_start = time.time_ns()\n",
    "model_lr.fit(X, y)\n",
    "time_end = time.time_ns()\n",
    "reg_time = time_end - time_start\n",
    "print(\"Duration:\", reg_time / 1e9, \"seconds\")\n",
    "\n",
    "# model_lr.predict(X)\n",
    "print(\"weight: \", model_lr.intercept_, model_lr.coef_)"
   ]
  },
  {
   "attachments": {},
   "cell_type": "markdown",
   "metadata": {},
   "source": [
    "### 2. logistic regression (classification)"
   ]
  },
  {
   "cell_type": "code",
   "execution_count": 8,
   "metadata": {},
   "outputs": [
    {
     "name": "stdout",
     "output_type": "stream",
     "text": [
      "Loading data success!\n",
      "Duration: 0.35549526 seconds\n",
      "Training success!\n"
     ]
    }
   ],
   "source": [
    "# simple ML toolkit\n",
    "model = simpleml.Log_regression()\n",
    "model.load_data('test_data/x_train_cls.csv', 'test_data/t_train_cls.csv', 10)\n",
    "\n",
    "time_start = time.time_ns()\n",
    "model.train(50)\n",
    "time_end = time.time_ns()\n",
    "reg_time = time_end - time_start\n",
    "print(\"Duration:\", reg_time / 1e9, \"seconds\")\n",
    "\n",
    "weight_lrml = np.array(model.weight).reshape((10, 784))"
   ]
  },
  {
   "cell_type": "code",
   "execution_count": 3,
   "metadata": {},
   "outputs": [
    {
     "name": "stdout",
     "output_type": "stream",
     "text": [
      "Test acc:Testing success!\n",
      " 0.8875\n"
     ]
    }
   ],
   "source": [
    "test_x = pd.read_csv('test_data/x_test_cls.csv', header=None).to_numpy().flatten()\n",
    "test_y = pd.read_csv('test_data/t_test_cls.csv', header=None).to_numpy().flatten()\n",
    "pred = np.array(model.test(test_x))\n",
    "print(\"Test acc:\", np.sum(test_y == pred) / len(test_y))"
   ]
  },
  {
   "cell_type": "code",
   "execution_count": 6,
   "metadata": {},
   "outputs": [],
   "source": [
    "train_x = pd.read_csv('test_data/x_train_cls.csv', header=None).to_numpy()\n",
    "# train_y = pd.read_csv('test_data/t_train_cls.csv', header=None).to_numpy()\n",
    "n_cls = 10\n",
    "train_label = np.zeros([n_cls, 1])\n",
    "for i in range(n_cls):\n",
    "    label_temp = np.zeros([n_cls, 1])\n",
    "    label_temp[i, 0] = 1\n",
    "    label_temp = np.repeat(label_temp, 128, axis=1)\n",
    "    train_label = np.hstack((train_label, label_temp[:, 32:]))\n",
    "train_label = train_label[:, 1:]\n",
    "train_y = train_label"
   ]
  },
  {
   "cell_type": "code",
   "execution_count": 4,
   "metadata": {},
   "outputs": [],
   "source": [
    "import cv2\n",
    "# parameters\n",
    "n_cls = 10\n",
    "n_img = 128\n",
    "img_h = 28\n",
    "img_w = 28\n",
    "train_test_ratio = (128-32)/32\n",
    "\n",
    "# load image data\n",
    "train_image = np.zeros([1, img_h*img_w])\n",
    "test_image = np.zeros([1, img_h*img_w])\n",
    "train_label = np.zeros([n_cls, 1])\n",
    "test_label = np.zeros([n_cls, 1])\n",
    "\n",
    "for i in range(n_cls):\n",
    "    temp = []\n",
    "    for j in range(n_img):\n",
    "        img = cv2.imread('MNIST/{}/{}.jpg'.format(i, j), cv2.IMREAD_GRAYSCALE)\n",
    "        img = img / 255.0\n",
    "        img = img.flatten()\n",
    "        temp.append(img)\n",
    "    temp = np.array(temp)\n",
    "    test_image = np.vstack((test_image, temp[:32,:]))\n",
    "    train_image = np.vstack((train_image, temp[32:,:]))\n",
    "    # print(temp[:32,:].shape, temp[32:,:].shape, temp.shape)\n",
    "    \n",
    "    label_temp = np.zeros([n_cls, 1])\n",
    "    label_temp[i, 0] = 1\n",
    "    label_temp = np.repeat(label_temp, n_img, axis=1)\n",
    "    test_label = np.hstack((test_label, label_temp[:, :32]))\n",
    "    train_label = np.hstack((train_label, label_temp[:, 32:]))\n",
    "    # print(label_temp.shape)\n",
    "\n",
    "train_image = train_image[1:, :]\n",
    "test_image = test_image[1:, :]\n",
    "train_label = train_label[:, 1:]\n",
    "test_label = test_label[:, 1:]"
   ]
  },
  {
   "cell_type": "code",
   "execution_count": 9,
   "metadata": {},
   "outputs": [
    {
     "name": "stdout",
     "output_type": "stream",
     "text": [
      "Duration: 1.143997697 seconds\n"
     ]
    }
   ],
   "source": [
    "# pure python\n",
    "epoch = 50\n",
    "lr = 0.0005\n",
    "\n",
    "time_start = time.time_ns()\n",
    "\n",
    "weight = np.zeros([n_cls, img_h*img_w])\n",
    "for iter in range(epoch):\n",
    "    train_a = np.dot(weight, train_image.T)\n",
    "    train_y = np.exp(train_a) / np.sum(np.exp(train_a), axis=0)\n",
    "    weight -= lr * np.dot((train_y - train_label), train_image)\n",
    "\n",
    "time_end = time.time_ns()\n",
    "reg_time = time_end - time_start\n",
    "print(\"Duration:\", reg_time / 1e9, \"seconds\")"
   ]
  },
  {
   "cell_type": "code",
   "execution_count": 13,
   "metadata": {},
   "outputs": [
    {
     "data": {
      "text/plain": [
       "True"
      ]
     },
     "execution_count": 13,
     "metadata": {},
     "output_type": "execute_result"
    }
   ],
   "source": [
    "np.min(np.isclose(weight_lrml, weight))"
   ]
  },
  {
   "cell_type": "code",
   "execution_count": 40,
   "metadata": {},
   "outputs": [
    {
     "name": "stdout",
     "output_type": "stream",
     "text": [
      "Duration: 0.110849601 seconds\n",
      "weight:  [[-0.00325456 -0.00264466 -0.05871713 ...  0.          0.\n",
      "   0.        ]\n",
      " [-0.01173491 -0.01438416 -0.01554023 ...  0.          0.\n",
      "   0.        ]\n",
      " [ 0.03735465 -0.07179375  0.0390509  ...  0.          0.\n",
      "   0.        ]\n",
      " ...\n",
      " [ 0.02773822  0.01843406 -0.01666703 ...  0.          0.\n",
      "   0.        ]\n",
      " [-0.03077941  0.02429813 -0.01246601 ...  0.          0.\n",
      "   0.        ]\n",
      " [-0.04236132 -0.04137545 -0.02110152 ...  0.          0.\n",
      "   0.        ]]\n"
     ]
    }
   ],
   "source": [
    "# sklearn\n",
    "model_lr = LogisticRegression(penalty=None, max_iter=50)\n",
    "train_label_sk = np.argmax(train_label, axis=0)\n",
    "\n",
    "time_start = time.time_ns()\n",
    "model_lr.fit(train_image, train_label_sk)\n",
    "time_end = time.time_ns()\n",
    "reg_time = time_end - time_start\n",
    "print(\"Duration:\", reg_time / 1e9, \"seconds\")\n",
    "\n",
    "# model_lr.predict(X)\n",
    "print(\"weight: \", model_lr.coef_)"
   ]
  },
  {
   "attachments": {},
   "cell_type": "markdown",
   "metadata": {},
   "source": [
    "### 3. k-means"
   ]
  },
  {
   "cell_type": "code",
   "execution_count": 2,
   "metadata": {},
   "outputs": [],
   "source": [
    "# hyper paramenter\n",
    "K = 20\n",
    "iteration = 100"
   ]
  },
  {
   "cell_type": "code",
   "execution_count": 5,
   "metadata": {},
   "outputs": [
    {
     "name": "stdout",
     "output_type": "stream",
     "text": [
      "Loading data success!\n",
      "Duration: 1.416096252 seconds\n",
      "Training success!\n"
     ]
    }
   ],
   "source": [
    "# simple ML toolkit\n",
    "model = simpleml.Kmeans()\n",
    "model.load_data('test_data/cat.csv', K)\n",
    "\n",
    "time_start = time.time_ns()\n",
    "model.train(iteration)\n",
    "time_end = time.time_ns()\n",
    "reg_time = time_end - time_start\n",
    "print(\"Duration:\", reg_time / 1e9, \"seconds\")\n",
    "\n",
    "# model.test()\n",
    "center = model.center\n",
    "classes = model.classes"
   ]
  },
  {
   "cell_type": "code",
   "execution_count": 59,
   "metadata": {},
   "outputs": [],
   "source": [
    "img = pd.read_csv('test_data/cat.csv', header=None).to_numpy()"
   ]
  },
  {
   "cell_type": "code",
   "execution_count": 128,
   "metadata": {},
   "outputs": [
    {
     "name": "stdout",
     "output_type": "stream",
     "text": [
      "Duration: 5.862847863 seconds\n"
     ]
    }
   ],
   "source": [
    "# pure python\n",
    "time_start = time.time_ns()\n",
    "\n",
    "center = img[np.random.randint(len(img), size=K)]\n",
    "old_center = center\n",
    "for i in range(iteration):\n",
    "    distance = np.sum((img.reshape(-1, 1, 3) - center)**2, axis=2)\n",
    "    classes = np.argmin(distance, axis=1)\n",
    "    class_onehot = np.eye(K)[classes]\n",
    "    temp_sum = np.sum(class_onehot.reshape(-1, K, 1) * img.reshape(-1, 1, 3), axis=0)\n",
    "    center = temp_sum / np.sum(class_onehot, axis=0).reshape(K, 1)\n",
    "\n",
    "time_end = time.time_ns()\n",
    "reg_time = time_end - time_start\n",
    "print(\"Duration:\", reg_time / 1e9, \"seconds\")\n"
   ]
  },
  {
   "cell_type": "code",
   "execution_count": 127,
   "metadata": {},
   "outputs": [
    {
     "name": "stdout",
     "output_type": "stream",
     "text": [
      "Duration: 0.248065873 seconds\n",
      "Iterations: 100\n"
     ]
    }
   ],
   "source": [
    "# sklearn\n",
    "model = KMeans(n_clusters=K, n_init=1, max_iter=100, init='random')\n",
    "\n",
    "time_start = time.time_ns()\n",
    "model.fit(img)\n",
    "time_end = time.time_ns()\n",
    "reg_time = time_end - time_start\n",
    "print(\"Duration:\", reg_time / 1e9, \"seconds\")\n",
    "print(\"Iterations:\", model.n_iter_)\n",
    "center = model.cluster_centers_\n",
    "classes = model.predict(img)"
   ]
  },
  {
   "attachments": {},
   "cell_type": "markdown",
   "metadata": {},
   "source": [
    "### data generation"
   ]
  },
  {
   "cell_type": "code",
   "execution_count": null,
   "metadata": {},
   "outputs": [],
   "source": [
    "import cv2\n",
    "import time\n",
    "import numpy as np\n",
    "image = cv2.imread(\"./hw3.jpg\")\n",
    "img = image.reshape((-1, 3)) / 255.0\n",
    "# np.savetxt('cat.csv', img, delimiter=',')"
   ]
  },
  {
   "cell_type": "code",
   "execution_count": 8,
   "metadata": {},
   "outputs": [],
   "source": [
    "import cv2\n",
    "# parameters\n",
    "n_cls = 10\n",
    "n_img = 128\n",
    "img_h = 28\n",
    "img_w = 28\n",
    "train_test_ratio = (128-32)/32\n",
    "\n",
    "# load image data\n",
    "train_image = np.zeros([1, img_h*img_w])\n",
    "test_image = np.zeros([1, img_h*img_w])\n",
    "train_label = np.zeros([1])\n",
    "test_label = np.zeros([1])\n",
    "\n",
    "for i in range(n_cls):\n",
    "    temp = []\n",
    "    for j in range(n_img):\n",
    "        img = cv2.imread('MNIST/{}/{}.jpg'.format(i, j), cv2.IMREAD_GRAYSCALE)\n",
    "        img = img / 255.0\n",
    "        img = img.flatten()\n",
    "        temp.append(img)\n",
    "    temp = np.array(temp)\n",
    "    test_image = np.vstack((test_image, temp[:32,:]))\n",
    "    train_image = np.vstack((train_image, temp[32:,:]))\n",
    "    # print(temp[:32,:].shape, temp[32:,:].shape, temp.shape)\n",
    "    \n",
    "    # for j in range(n_img):\n",
    "    #     train_label.append(i)\n",
    "    #     test_label.append(i)\n",
    "    label_temp = np.array([i])\n",
    "    label_temp = np.repeat(label_temp, n_img)\n",
    "    test_label = np.hstack((test_label, label_temp[:32]))\n",
    "    train_label = np.hstack((train_label, label_temp[32:]))\n",
    "    # print(label_temp.shape)\n",
    "\n",
    "train_image = train_image[1:, :]\n",
    "test_image = test_image[1:, :]\n",
    "train_label = train_label[1:]\n",
    "test_label = test_label[1:]"
   ]
  },
  {
   "cell_type": "code",
   "execution_count": 9,
   "metadata": {},
   "outputs": [],
   "source": [
    "np.savetxt('x_train_cls.csv', train_image, delimiter=',')\n",
    "np.savetxt('t_train_cls.csv', train_label, delimiter=',')\n",
    "np.savetxt('x_test_cls.csv', test_image, delimiter=',')\n",
    "np.savetxt('t_test_cls.csv', test_label, delimiter=',')"
   ]
  },
  {
   "attachments": {},
   "cell_type": "markdown",
   "metadata": {},
   "source": [
    "### test"
   ]
  },
  {
   "cell_type": "code",
   "execution_count": 41,
   "metadata": {},
   "outputs": [],
   "source": [
    "# k-means\n",
    "def kmeans(data, K, iter):\n",
    "    # initialize\n",
    "    center = data[np.random.randint(len(data), size=K)]\n",
    "\n",
    "    for i in range(iter):\n",
    "        # 找離每個點最近的群(中心)，將其分類為該群\n",
    "        distance = np.sum((data.reshape(-1, 1, 3) - center)**2, axis=2)\n",
    "        classes = np.argmin(distance, axis=1)\n",
    "        class_onehot = np.eye(K)[classes]\n",
    "        # 更新各群的中心\n",
    "        temp_sum = np.sum(class_onehot.reshape(-1, K, 1) * data.reshape(-1, 1, 3), axis=0)\n",
    "        center = temp_sum / np.sum(class_onehot, axis=0).reshape(K, 1)\n",
    "    \n",
    "    return center, class_onehot"
   ]
  },
  {
   "cell_type": "code",
   "execution_count": 46,
   "metadata": {},
   "outputs": [],
   "source": [
    "# print center\n",
    "def print_means(mean, k, model):\n",
    "    print(\"---------- %s K = %d ----------\" %(model, k))\n",
    "    print(\"         B          G          R   \")\n",
    "    for i in range(k):\n",
    "        print(\"%2d: %10f %10f %10f\" %(i, mean[i, 0]*255, mean[i, 1]*255, mean[i, 2]*255))"
   ]
  },
  {
   "cell_type": "code",
   "execution_count": 52,
   "metadata": {},
   "outputs": [
    {
     "name": "stdout",
     "output_type": "stream",
     "text": [
      "time cost: 3.7064788341522217\n",
      "---------- k-means K = 7 ----------\n",
      "         B          G          R   \n",
      " 0:  16.688316  40.974668  18.574869\n",
      " 1: 105.116698 139.539326  81.580168\n",
      " 2: 199.202706 208.755111 229.836969\n",
      " 3: 102.572856 123.817821 148.772353\n",
      " 4: 149.783546 165.975425 190.046789\n",
      " 5:  30.091969  72.410471  32.778405\n",
      " 6:  72.017115 101.387775  59.115892\n"
     ]
    }
   ],
   "source": [
    "K = 7\n",
    "iteration = 100\n",
    "\n",
    "time_start = time.time()\n",
    "center, class_onehot = kmeans(img, K, iteration)\n",
    "time_end = time.time()\n",
    "print(\"time cost:\", time_end-time_start)\n",
    "print_means(center, K, 'k-means')"
   ]
  }
 ],
 "metadata": {
  "kernelspec": {
   "display_name": "Python 3",
   "language": "python",
   "name": "python3"
  },
  "language_info": {
   "codemirror_mode": {
    "name": "ipython",
    "version": 3
   },
   "file_extension": ".py",
   "mimetype": "text/x-python",
   "name": "python",
   "nbconvert_exporter": "python",
   "pygments_lexer": "ipython3",
   "version": "3.8.10"
  },
  "orig_nbformat": 4,
  "vscode": {
   "interpreter": {
    "hash": "916dbcbb3f70747c44a77c7bcd40155683ae19c65e1c03b4aa3499c5328201f1"
   }
  }
 },
 "nbformat": 4,
 "nbformat_minor": 2
}
